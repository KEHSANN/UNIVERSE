{
  "nbformat": 4,
  "nbformat_minor": 0,
  "metadata": {
    "colab": {
      "provenance": [],
      "toc_visible": true,
      "include_colab_link": true
    },
    "kernelspec": {
      "name": "python3",
      "display_name": "Python 3"
    },
    "language_info": {
      "name": "python"
    }
  },
  "cells": [
    {
      "cell_type": "markdown",
      "metadata": {
        "id": "view-in-github",
        "colab_type": "text"
      },
      "source": [
        "<a href=\"https://colab.research.google.com/github/KEHSANN/universe/blob/main/AI4021_HW1_2_Python_Tutorial_2.ipynb\" target=\"_parent\"><img src=\"https://colab.research.google.com/assets/colab-badge.svg\" alt=\"Open In Colab\"/></a>"
      ]
    },
    {
      "cell_type": "markdown",
      "source": [
        "**Problem 1:** Create a NumPy array of 20 random integers between 1 and 100. Calculate the mean, median, and standard deviation of the array."
      ],
      "metadata": {
        "id": "5jP9Bu4Ysx6g"
      }
    },
    {
      "cell_type": "code",
      "execution_count": 8,
      "metadata": {
        "id": "We_SKcMhsxWZ",
        "colab": {
          "base_uri": "https://localhost:8080/"
        },
        "outputId": "9d330af8-0848-40a0-9630-ac6fc29b4d2a"
      },
      "outputs": [
        {
          "output_type": "stream",
          "name": "stdout",
          "text": [
            "[38  4  8 17 97 42 21 45 94 61 14 92 67 61 71  4 60 68 59 25]\n",
            "47.4\n",
            "52.0\n",
            "29.437051482782714\n"
          ]
        }
      ],
      "source": [
        "import numpy as np\n",
        "import matplotlib.pyplot as plt\n",
        "\n",
        "random_int=np.random.randint(0, 100, 20)\n",
        "print(random_int)\n",
        "print(np.mean(random_int))\n",
        "print(np.median(random_int))\n",
        "print(np.std(random_int))\n"
      ]
    },
    {
      "cell_type": "markdown",
      "source": [
        "**Problem 2:** Create a Pandas DataFrame with three columns - 'Name', 'Age', and 'City' - and at least five rows of data. Perform a basic data exploration by displaying the first 3 rows, the last 2 rows, and a summary of statistics for the 'Age' column."
      ],
      "metadata": {
        "id": "-iiFwoVRs2s-"
      }
    },
    {
      "cell_type": "code",
      "source": [
        "import pandas as pd\n",
        "import numpy as np\n",
        "import matplotlib.pyplot as plt\n",
        "\n",
        "data={\n",
        "    \"Name\" : [\"ali\", \"hasan\", \"sohrab\", \"javad\", \"zahra\"],\n",
        "    \"Age\" : [22, 23, 12, 15, 29],\n",
        "    \"city\" : [\"tehran\", \"mashad\", \"arak\", \"esfahan\", \"shiraz\"]\n",
        "\n",
        "}\n",
        "df = pd.DataFrame(data)\n",
        "\n",
        "print(df.head(3))\n",
        "print(df.tail(2))\n",
        "print(df['Age'].describe())"
      ],
      "metadata": {
        "id": "TreuEe0Us4uO",
        "colab": {
          "base_uri": "https://localhost:8080/"
        },
        "outputId": "48ba9b7b-5ace-483a-c7e6-c5f70200864a"
      },
      "execution_count": 17,
      "outputs": [
        {
          "output_type": "stream",
          "name": "stdout",
          "text": [
            "     Name  Age    city\n",
            "0     ali   22  tehran\n",
            "1   hasan   23  mashad\n",
            "2  sohrab   12    arak\n",
            "    Name  Age     city\n",
            "3  javad   15  esfahan\n",
            "4  zahra   29   shiraz\n",
            "count     5.000000\n",
            "mean     20.200000\n",
            "std       6.760178\n",
            "min      12.000000\n",
            "25%      15.000000\n",
            "50%      22.000000\n",
            "75%      23.000000\n",
            "max      29.000000\n",
            "Name: Age, dtype: float64\n"
          ]
        }
      ]
    },
    {
      "cell_type": "markdown",
      "source": [
        "**Problem 3:** Create a bar chart using Matplotlib to visualize the following data: Monthly sales for a store (January to May). Use appropriate labels and titles for the chart."
      ],
      "metadata": {
        "id": "PNw-Io7Js0-Z"
      }
    },
    {
      "cell_type": "code",
      "source": [
        "import pandas as pd\n",
        "import numpy as np\n",
        "import matplotlib.pyplot as plt\n",
        "\n",
        "months = ['Jan', 'Feb', 'Mar', 'Apr', 'May']\n",
        "sales = [25000, 28000, 30000, 35000, 40000]\n",
        "\n",
        "plt.bar(months, sales)\n",
        "plt.xlabel(\"month\")\n",
        "plt.ylabel('Sales')\n",
        "plt.title('Monthly Sales')\n",
        "plt.show()\n"
      ],
      "metadata": {
        "id": "0mLs7tD4s9q4",
        "colab": {
          "base_uri": "https://localhost:8080/",
          "height": 472
        },
        "outputId": "854546ed-50a0-486e-f260-f0752d0e8483"
      },
      "execution_count": 30,
      "outputs": [
        {
          "output_type": "display_data",
          "data": {
            "text/plain": [
              "<Figure size 640x480 with 1 Axes>"
            ],
            "image/png": "[encoded data removed]"
          },
          "metadata": {}
        }
      ]
    },
    {
      "cell_type": "markdown",
      "source": [
        "**Problem 4:** Create two NumPy arrays, 'arr1' and 'arr2', both of size 5x5 with random integer values. Perform element-wise addition, subtraction, multiplication, and division between the two arrays."
      ],
      "metadata": {
        "id": "Lj1_pouqtBU1"
      }
    },
    {
      "cell_type": "code",
      "source": [
        "import pandas as pd\n",
        "import numpy as np\n",
        "import matplotlib.pyplot as plt\n",
        "\n",
        "arr1=np.random.randint(0, 10, (5, 5))\n",
        "arr2=np.random.randint(0, 10, (5, 5))\n",
        "print(arr1 + arr2)\n",
        "print(arr1 - arr2)\n",
        "print(arr1 * arr2)\n",
        "print(arr1 / arr2)"
      ],
      "metadata": {
        "id": "gK1BxnVRtA4t",
        "colab": {
          "base_uri": "https://localhost:8080/"
        },
        "outputId": "96b149c1-b134-4032-fc36-6d13f9a27ee9"
      },
      "execution_count": 31,
      "outputs": [
        {
          "output_type": "stream",
          "name": "stdout",
          "text": [
            "[[17  8 10  4 10]\n",
            " [13  9  9  4  9]\n",
            " [ 9 10 13 10 17]\n",
            " [ 8  5  9  9 12]\n",
            " [13  4  2  7  6]]\n",
            "[[-1 -8  4 -4 -4]\n",
            " [-3  5 -7 -4  9]\n",
            " [ 9  0  1  2  1]\n",
            " [ 2 -1  9  7 -4]\n",
            " [ 3  4  0  3 -2]]\n",
            "[[72  0 21  0 21]\n",
            " [40 14  8  0  0]\n",
            " [ 0 25 42 24 72]\n",
            " [15  6  0  8 32]\n",
            " [40  0  1 10  8]]\n",
            "[[0.88888889 0.         2.33333333 0.         0.42857143]\n",
            " [0.625      3.5        0.125      0.                inf]\n",
            " [       inf 1.         1.16666667 1.5        1.125     ]\n",
            " [1.66666667 0.66666667        inf 8.         0.5       ]\n",
            " [1.6               inf 1.         2.5        0.5       ]]\n"
          ]
        },
        {
          "output_type": "stream",
          "name": "stderr",
          "text": [
            "<ipython-input-31-2331d68eb1d8>:10: RuntimeWarning: divide by zero encountered in divide\n",
            "  print(arr1 / arr2)\n"
          ]
        }
      ]
    },
    {
      "cell_type": "markdown",
      "source": [
        "**Problem 5:** Given a Pandas DataFrame with information about employees, filter and display only the employees who are older than 30 years."
      ],
      "metadata": {
        "id": "kii_k_K7tE1S"
      }
    },
    {
      "cell_type": "code",
      "source": [
        "import pandas as pd\n",
        "import numpy as np\n",
        "import matplotlib.pyplot as plt\n",
        "\n",
        "data = {\n",
        "    \"Name\" : [\"ali\", \"hasan\", \"sohrab\", \"javad\", \"zahra\"],\n",
        "    \"Age\" : [22, 32, 12, 45, 29]\n",
        "}\n",
        "\n",
        "df = pd.DataFrame(data)\n",
        "\n",
        "print(df[df['Age'] > 30])\n"
      ],
      "metadata": {
        "id": "2tjtwMK5tLkW",
        "colab": {
          "base_uri": "https://localhost:8080/"
        },
        "outputId": "4c257d97-aae5-44f9-c904-eaceba050a8a"
      },
      "execution_count": 34,
      "outputs": [
        {
          "output_type": "stream",
          "name": "stdout",
          "text": [
            "    Name  Age\n",
            "1  hasan   32\n",
            "3  javad   45\n"
          ]
        }
      ]
    },
    {
      "cell_type": "markdown",
      "source": [
        "**Problem 6:** Create a scatter plot using Matplotlib to visualize a dataset of 100 random (x, y) coordinates. Label the axes appropriately and give the plot a title."
      ],
      "metadata": {
        "id": "nWkeN_kxtNar"
      }
    },
    {
      "cell_type": "code",
      "source": [
        "import pandas as pd\n",
        "import numpy as np\n",
        "import matplotlib.pyplot as plt\n",
        "\n",
        "randomx = np.random.rand(100)\n",
        "randomy = np.random.rand(100)\n",
        "plt.scatter(randomx, randomy)\n",
        "plt.xlabel(\"X\")\n",
        "plt.ylabel(\"Y\")\n",
        "plt.title('Random Scatter Plot')\n",
        "plt.show()"
      ],
      "metadata": {
        "id": "kVctGlqwtSwd",
        "colab": {
          "base_uri": "https://localhost:8080/",
          "height": 472
        },
        "outputId": "38678477-e80b-4fa5-c632-30ffb5a544e1"
      },
      "execution_count": 44,
      "outputs": [
        {
          "output_type": "display_data",
          "data": {
            "text/plain": [
              "<Figure size 640x480 with 1 Axes>"
            ],
            "image/png": "[encoded data removed]"
          },
          "metadata": {}
        }
      ]
    },
    {
      "cell_type": "markdown",
      "source": [
        "**Problem 7:** Create two NumPy matrices, 'matrix1' (2x3) and 'matrix2' (3x4), with random values. Perform matrix multiplication between the two matrices."
      ],
      "metadata": {
        "id": "ex6ZssoNtUn-"
      }
    },
    {
      "cell_type": "code",
      "source": [
        "import pandas as pd\n",
        "import numpy as np\n",
        "import matplotlib.pyplot as plt\n",
        "\n",
        "matrix1 = np.random.randint(0, 10, (2, 3))\n",
        "matrix2 = np.random.randint(0, 10, (3, 4))\n",
        "\n",
        "print(np.matmul(matrix1, matrix2))"
      ],
      "metadata": {
        "id": "HKWDmVICtVuX",
        "colab": {
          "base_uri": "https://localhost:8080/"
        },
        "outputId": "02014c9c-7710-48f0-e979-892dd59ea49d"
      },
      "execution_count": 45,
      "outputs": [
        {
          "output_type": "stream",
          "name": "stdout",
          "text": [
            "[[59 33 73  9]\n",
            " [68 46 92 12]]\n"
          ]
        }
      ]
    },
    {
      "cell_type": "markdown",
      "source": [
        "**Problem 8:** Given a Pandas DataFrame containing sales data, calculate and display the total sales for each product category."
      ],
      "metadata": {
        "id": "I_A6rPt8tYHF"
      }
    },
    {
      "cell_type": "code",
      "source": [
        "import pandas as pd\n",
        "import numpy as np\n",
        "import matplotlib.pyplot as plt\n",
        "\n",
        "data = {\n",
        "    'Product': ['a', 'b', 'c', 'd', 'e', 'f', 'g', 'h', 'j', 'k', 'l'],\n",
        "    'Category': ['X', 'Y', 'X', 'Y', 'Z', 'X', 'Z', 'Y', 'X', 'Y', 'Z'],\n",
        "    'Sales': [100, 200, 150, 300, 250, 120, 180, 220, 280, 190, 150]\n",
        "}\n",
        "datab = pd.DataFrame(data)\n",
        "\n",
        "category_group = datab.groupby(\"Category\")\n",
        "result = category_group.agg({\"Sales\" : \"sum\"})\n",
        "print(result)"
      ],
      "metadata": {
        "id": "blNHInhXtbX_",
        "colab": {
          "base_uri": "https://localhost:8080/"
        },
        "outputId": "379fe0df-eba2-45a9-b9cd-206373a6e1dd"
      },
      "execution_count": 53,
      "outputs": [
        {
          "output_type": "stream",
          "name": "stdout",
          "text": [
            "          Sales\n",
            "Category       \n",
            "X           650\n",
            "Y           910\n",
            "Z           580\n"
          ]
        }
      ]
    },
    {
      "cell_type": "markdown",
      "source": [
        "**Problem 9:** Create a line chart using Matplotlib to visualize the population growth of a city over 10 years. Label the axes and provide a title."
      ],
      "metadata": {
        "id": "mtFKN7CStmr5"
      }
    },
    {
      "cell_type": "code",
      "source": [
        "import pandas as pd\n",
        "import numpy as np\n",
        "import matplotlib.pyplot as plt\n",
        "\n",
        "years = [2011, 2012, 2013, 2014, 2015, 2016, 2017, 2018, 2019, 2020]\n",
        "pop = [1000, 1100, 1200, 1300, 1400, 1500, 1600, 1700, 1800, 1900]\n",
        "\n",
        "plt.plot(years, pop)\n",
        "plt.xlabel(\"year\")\n",
        "plt.ylabel(\"population\")\n",
        "plt.title('City Population Growth')\n",
        "plt.show()\n",
        "\n"
      ],
      "metadata": {
        "id": "-_O7t-titn_I",
        "colab": {
          "base_uri": "https://localhost:8080/",
          "height": 472
        },
        "outputId": "63ffb42d-50b4-46b5-a350-30ab718a1c13"
      },
      "execution_count": 54,
      "outputs": [
        {
          "output_type": "display_data",
          "data": {
            "text/plain": [
              "<Figure size 640x480 with 1 Axes>"
            ],
            "image/png": "[encoded data removed]"
          },
          "metadata": {}
        }
      ]
    },
    {
      "cell_type": "markdown",
      "source": [
        "**Problem 10:** Given a Pandas DataFrame containing information about students, add a new column 'Grade' based on the following criteria:\n",
        "* If 'Score' >= 90, Grade is 'A'\n",
        "* If 'Score' >= 80, Grade is 'B'\n",
        "* If 'Score' >= 70, Grade is 'C'\n",
        "* If 'Score' < 70, Grade is 'D'"
      ],
      "metadata": {
        "id": "nPWzdcGFtrHS"
      }
    },
    {
      "cell_type": "code",
      "source": [
        "import pandas as pd\n",
        "import numpy as np\n",
        "import matplotlib.pyplot as plt\n",
        "\n",
        "data = {\n",
        "    'Name': ['John', 'Emily', 'Michael', 'Sophia', 'William'],\n",
        "    'Score': [85, 92, 78, 95, 50]\n",
        "}\n",
        "student_data[\"Grade\"] = \"\"\n",
        "student_data = pd.DataFrame(data)\n",
        "\n",
        "gradeA=student_data[student_data[\"Score\"] >= 90][\"Name\"]\n",
        "gradeB=student_data[(student_data[\"Score\"]<= 90) & (student_data[\"Score\"]>= 80)][\"Name\"]\n",
        "gradeC=student_data[(student_data[\"Score\"]<= 80) & (student_data[\"Score\"]>= 70)][\"Name\"]\n",
        "gradeD=student_data[student_data[\"Score\"] <= 70][\"Name\"]\n",
        "student_data.loc[student_data['Name'].isin(gradeA), \"Grade\"] = 'a'\n",
        "student_data.loc[student_data['Name'].isin(gradeB), \"Grade\"] = 'B'\n",
        "student_data.loc[student_data['Name'].isin(gradeC), \"Grade\"] = 'C'\n",
        "student_data.loc[student_data['Name'].isin(gradeD), \"Grade\"] = 'D'\n",
        "print(student_data)\n",
        "\n",
        "\n"
      ],
      "metadata": {
        "id": "L4cEUfKAtz_D",
        "colab": {
          "base_uri": "https://localhost:8080/"
        },
        "outputId": "4ab0ec9e-930f-4fbb-d9b8-c5c43a9f3d95"
      },
      "execution_count": 88,
      "outputs": [
        {
          "output_type": "stream",
          "name": "stdout",
          "text": [
            "      Name  Score Grade\n",
            "0     John     85     B\n",
            "1    Emily     92     a\n",
            "2  Michael     78     C\n",
            "3   Sophia     95     a\n",
            "4  William     50     D\n"
          ]
        }
      ]
    },
    {
      "cell_type": "markdown",
      "source": [
        "**Problem 11:** You are given a dataset containing monthly sales data for three products (A, B, and C) over a two-year period. Your task is to perform various data analysis tasks using NumPy, Pandas, and Matplotlib.\n",
        "\n",
        "\n",
        "*   Dataset:\n",
        "\n",
        "```\n",
        "import pandas as pd\n",
        "\n",
        "data = {\n",
        "    'Month': pd.date_range(start='2021-01-01', periods=24, freq='M'),\n",
        "    'Product A Sales': [500, 480, 600, 750, 900, 850, 920, 1100, 1300, 1350, 1500, 1450, 1550, 1600, 1650, 1600, 1500, 1400, 1600, 1700, 1800, 1750, 1850, 1900],\n",
        "    'Product B Sales': [300, 320, 400, 450, 500, 580, 700, 750, 820, 900, 950, 980, 1050, 1100, 1150, 1200, 1250, 1300, 1350, 1400, 1500, 1600, 1550, 1700],\n",
        "    'Product C Sales': [200, 210, 250, 280, 320, 350, 380, 400, 420, 440, 460, 480, 500, 520, 540, 560, 580, 600, 620, 640, 660, 680, 700, 720]\n",
        "}\n",
        "\n",
        "sales_df = pd.DataFrame(data)\n",
        "```\n",
        "*  Tasks:\n",
        "1. Calculate and display the total sales for each product over the two-year period.\n",
        "\n",
        "2. Calculate and display the average monthly sales for each product.\n",
        "\n",
        "3. Find the month with the highest sales for each product, and display the product and the sales value for that month.\n",
        "\n",
        "4. Calculate and display the percentage change in sales for each product from January to December in the second year (2022).\n",
        "\n",
        "5. Create a line chart using Matplotlib to visualize the monthly sales data for each product over the two-year period. Label the axes and provide a title for the chart.\n",
        "\n",
        "6. Calculate the correlation between Product A and Product B sales. Is there a strong correlation between these two products? Display the correlation coefficient.\n"
      ],
      "metadata": {
        "id": "ghA9GbcCuZIs"
      }
    },
    {
      "cell_type": "code",
      "source": [
        "import pandas as pd\n",
        "import numpy as np\n",
        "import matplotlib.pyplot as plt\n",
        "\n",
        "# Dataset\n",
        "data = {\n",
        "    'Month': pd.date_range(start='2021-01-01', periods=24, freq='M'),\n",
        "    'Product A Sales': [500, 480, 600, 750, 900, 850, 920, 1100, 1300, 1350, 1500, 1450, 1550, 1600, 1650, 1600, 1500, 1400, 1600, 1700, 1800, 1750, 1850, 1900],\n",
        "    'Product B Sales': [300, 320, 400, 450, 500, 580, 700, 750, 820, 900, 950, 980, 1050, 1100, 1150, 1200, 1250, 1300, 1350, 1400, 1500, 1600, 1550, 1700],\n",
        "    'Product C Sales': [200, 210, 250, 280, 320, 350, 380, 400, 420, 440, 460, 480, 500, 520, 540, 560, 580, 600, 620, 640, 660, 680, 700, 720]\n",
        "}\n",
        "\n",
        "sales_df = pd.DataFrame(data)\n",
        "\n",
        "# Task 1: Total sales for each product over the two-year period\n",
        "total_sales = sales_df.sum(numeric_only=True)\n",
        "print(\"Total sales for each product:\")\n",
        "print(total_sales)\n",
        "print()\n",
        "\n",
        "# Task 2: Average monthly sales for each product\n",
        "average_sales = sales_df.mean(numeric_only=True)\n",
        "print(\"Average monthly sales for each product:\")\n",
        "print(average_sales)\n",
        "print()\n",
        "\n",
        "# Task 3: Month with the highest sales for each product\n",
        "max_sales_month = sales_df.idxmax()\n",
        "print(\"Month with the highest sales for each product:\")\n",
        "print(max_sales_month)\n",
        "print()\n",
        "\n",
        "# Task 4: Percentage change in sales from January to December in the second year (2022)\n",
        "sales_2022 = sales_df[sales_df['Month'].dt.year == 2022]\n",
        "percentage_change = (sales_2022.iloc[-1] - sales_2022.iloc[0]) / sales_2022.iloc[0] * 100\n",
        "print(\"Percentage change in sales from January to December 2022:\")\n",
        "print(percentage_change)\n",
        "print()\n",
        "\n",
        "# Task 5: Line chart to visualize monthly sales data for each product\n",
        "plt.figure(figsize=(10, 6))\n",
        "plt.plot(sales_df['Month'], sales_df['Product A Sales'], label='Product A')\n",
        "plt.plot(sales_df['Month'], sales_df['Product B Sales'], label='Product B')\n",
        "plt.plot(sales_df['Month'], sales_df['Product C Sales'], label='Product C')\n",
        "plt.xlabel('Month')\n",
        "plt.ylabel('Sales')\n",
        "plt.title('Monthly Sales Data')\n",
        "plt.legend()\n",
        "plt.show()\n",
        "\n",
        "# Task 6: Correlation between Product A and Product B sales\n",
        "correlation = sales_df['Product A Sales'].corr(sales_df['Product B Sales'])\n",
        "print(\"Correlation between Product A and Product B sales:\")\n",
        "print(correlation)"
      ],
      "metadata": {
        "id": "9NOWYCddvHyY"
      },
      "execution_count": null,
      "outputs": []
    }
  ]
}